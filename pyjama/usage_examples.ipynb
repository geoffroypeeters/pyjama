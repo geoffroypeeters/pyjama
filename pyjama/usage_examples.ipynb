{
 "cells": [
  {
   "cell_type": "markdown",
   "metadata": {},
   "source": [
    "# Example usage of .pyjama format"
   ]
  },
  {
   "cell_type": "code",
   "execution_count": 9,
   "metadata": {},
   "outputs": [],
   "source": [
    "import glob\n",
    "import sys\n",
    "import ipdb\n",
    "import os\n",
    "import numpy as np\n",
    "import json\n",
    "\n",
    "import pyjama\n",
    "import importlib\n",
    "importlib.reload(pyjama);\n"
   ]
  },
  {
   "cell_type": "code",
   "execution_count": 10,
   "metadata": {},
   "outputs": [],
   "source": [
    "def F_readCsv2(annotFile):\n",
    "    \"\"\"  annotTime_l, annotLabel_l = F_readCsv2(annotFile) \"\"\"\n",
    "    with open(annotFile, 'r') as text_file:\n",
    "        lines = text_file.readlines()\n",
    "    annotTime_l = [ float(line.strip('\\n').split('\\t')[0]) for line in lines]\n",
    "    annotLabel_l = [ line.strip('\\n').split('\\t')[1] for line in lines]\n",
    "    return annotTime_l, annotLabel_l"
   ]
  },
  {
   "cell_type": "code",
   "execution_count": 11,
   "metadata": {},
   "outputs": [],
   "source": [
    "def F_readCsv3(annotFile):\n",
    "    \"\"\" annotTime_l, annotStop_l, annotLabel_l = F_readCsv3(annotFile) \"\"\"\n",
    "    with open(annotFile, 'r') as text_file:\n",
    "        lines = text_file.readlines()\n",
    "    annotTime_l = [ float(line.strip('\\n').split('\\t')[0]) for line in lines]\n",
    "    annotStop_l = [ float(line.strip('\\n').split('\\t')[1]) for line in lines]\n",
    "    annotLabel_l = [ line.strip('\\n').split('\\t')[2] for line in lines]\n",
    "    return annotTime_l, annotStop_l, annotLabel_l"
   ]
  },
  {
   "cell_type": "markdown",
   "metadata": {},
   "source": [
    "## Simple dummy example"
   ]
  },
  {
   "cell_type": "code",
   "execution_count": 12,
   "metadata": {},
   "outputs": [
    {
     "name": "stdout",
     "output_type": "stream",
     "text": [
      "writting pyjama file: ./_examples/example_segment_pitch_and_text.pyjama\n"
     ]
    }
   ],
   "source": [
    "def F_example_segment_pitch_and_text(pyjama_file):\n",
    "    \"\"\"\n",
    "    Example of using pyjama to the store the structural segments of a\n",
    "    collection (here we consider the SALAMI music structure collection)\n",
    "    \"\"\"\n",
    "\n",
    "    # --- 1) Create the pyjama file structure\n",
    "    #myPyjama = pyjama.C_pyjama(not_valid_action='reject')\n",
    "    myPyjama = pyjama.C_pyjama(not_valid_action='add_to_dictionary')\n",
    "    #myPyjama = pyjama.C_pyjama(not_valid_action='filter_out')\n",
    "\n",
    "    myPyjama.M_add_definition(description_name='filepath',\n",
    "                             type_constraint='free')\n",
    "    myPyjama.M_add_definition(description_name='pitchandtexttype',\n",
    "                             type_extent='segment',\n",
    "                             type_constraint='free',\n",
    "                             generator={},\n",
    "                             dictionary=[])\n",
    "\n",
    "\n",
    "    myPyjama.M_add_entry()\n",
    "    myPyjama.M_update_entry(description_name='filepath', value_l='./myAudioFile.mp3')\n",
    "    myPyjama.M_update_entry(description_name='pitchandtexttype', value_l=[440., 'wasabi'], time_l=0.0, duration_l=1.0)\n",
    "\n",
    "    # --- 3) Save\n",
    "    myPyjama.M_save(pyjama_file)\n",
    "    return\n",
    "\n",
    "pyjama_file = './_examples/example_segment_pitch_and_text.pyjama'\n",
    "F_example_segment_pitch_and_text(pyjama_file)"
   ]
  },
  {
   "cell_type": "markdown",
   "metadata": {},
   "source": [
    "## Storing file structure"
   ]
  },
  {
   "cell_type": "code",
   "execution_count": 13,
   "metadata": {},
   "outputs": [
    {
     "name": "stdout",
     "output_type": "stream",
     "text": [
      "'value'(C) is not part of dictionary ->  updating dictionary\n",
      "writting pyjama file: ./_examples/example_segment.pyjama\n"
     ]
    }
   ],
   "source": [
    "importlib.reload(pyjama) \n",
    "\n",
    "def F_example_segment(pyjama_file):\n",
    "    \"\"\"\n",
    "    Example of using pyjama to the store the structural segments of a\n",
    "    collection (here we consider the SALAMI music structure collection)\n",
    "    \"\"\"\n",
    "\n",
    "    # --- 1) Create the pyjama file structure\n",
    "    #myPyjama = pyjama.C_pyjama(not_valid_action='reject')\n",
    "    myPyjama = pyjama.C_pyjama(not_valid_action='add_to_dictionary')\n",
    "    #myPyjama = pyjama.C_pyjama(not_valid_action='filter_out')\n",
    "    myPyjama.M_add_definition(description_name='filepath',\n",
    "                             type_constraint='filepath')\n",
    "    myPyjama.M_add_definition(description_name='structtype',\n",
    "                             type_extent='segment',\n",
    "                             type_constraint='value_in_dictionary',\n",
    "                             generator={'name': '', 'version': '', 'date': ''},\n",
    "                             dictionary=['Silence', 'A', 'B', 'C', 'D', 'E', 'F', 'I', 'V', 'End'])\n",
    "\n",
    "    myPyjama.M_add_definition(description_name='structtypeList',\n",
    "                             type_extent='segment',\n",
    "                             type_constraint='value_in_dictionary',\n",
    "                             generator={'name': '', 'version': '', 'date': ''},\n",
    "                             dictionary=['Silence', 'A', 'B'])\n",
    "\n",
    "    audioFile_l = glob.glob('./_examples/*.mp3')\n",
    "\n",
    "    for audioFile in audioFile_l:\n",
    "        annotFile = audioFile.replace('.mp3', '.struct.lab')\n",
    "        if os.path.isfile(annotFile):\n",
    "            # --- 2) Create a new entry and update its value\n",
    "            myPyjama.M_add_entry()\n",
    "            myPyjama.M_update_entry(description_name='filepath', value_l=audioFile)\n",
    "            annotTime_l, annotStop_l, annotLabel_l = F_readCsv3(annotFile)\n",
    "            annotDuration_l = []\n",
    "            for num in range(0, len(annotTime_l)):\n",
    "                myPyjama.M_update_entry(description_name='structtype', value_l=annotLabel_l[num], time_l=annotTime_l[num], duration_l=annotStop_l[num]-annotTime_l[num])\n",
    "                annotDuration_l.append(annotStop_l[num]-annotTime_l[num])\n",
    "\n",
    "            myPyjama.M_update_entry(description_name='structtypeList', value_l=[annotLabel_l], time_l=annotTime_l, duration_l=annotDuration_l)\n",
    "\n",
    "    # --- 3) Save\n",
    "    myPyjama.M_save(pyjama_file)\n",
    "    return\n",
    "\n",
    "pyjama_file = './_examples/example_segment.pyjama'\n",
    "F_example_segment(pyjama_file)"
   ]
  },
  {
   "cell_type": "markdown",
   "metadata": {},
   "source": [
    "## Updating dictionary\n",
    "\n"
   ]
  },
  {
   "cell_type": "code",
   "execution_count": 14,
   "metadata": {},
   "outputs": [
    {
     "name": "stdout",
     "output_type": "stream",
     "text": [
      "'value'(blues) is not part of dictionary ->  updating dictionary\n",
      "'value'(hiphop) is not part of dictionary ->  updating dictionary\n",
      "'value'(rock) is not part of dictionary ->  updating dictionary\n",
      "writting pyjama file: ./_examples/example_updating_dictonary.pyjama\n"
     ]
    }
   ],
   "source": [
    "importlib.reload(pyjama) \n",
    "\n",
    "def F_example_updating_dictionary(pyjama_file):\n",
    "    \"\"\"\n",
    "    This is an example of code that store genre tags and automatically update a dictinary \n",
    "    \"\"\"\n",
    "    # --- 1) Create the pyjama file structure\n",
    "    my = pyjama.C_pyjama()\n",
    "\n",
    "    # --- 2) Create a first entry and update its value\n",
    "    my.M_add_definition(description_name='genre', type_extent='global', type_constraint='value_in_dictionary')\n",
    "\n",
    "    tag_l = ['blues', 'blues', 'hiphop', 'rock', ['blues', 'hiphop']]\n",
    "    for tag in tag_l:\n",
    "        my.M_add_entry()\n",
    "        my.M_update_entry(description_name='genre', value_l=tag)\n",
    "\n",
    "    # --- 3) Save\n",
    "    my.M_save(pyjama_file)\n",
    "    return\n",
    "\n",
    "pyjama_file = './_examples/example_updating_dictonary.pyjama'\n",
    "F_example_updating_dictionary(pyjama_file)"
   ]
  },
  {
   "cell_type": "markdown",
   "metadata": {},
   "source": [
    "## Storing breakpoint values"
   ]
  },
  {
   "cell_type": "code",
   "execution_count": 15,
   "metadata": {},
   "outputs": [
    {
     "name": "stdout",
     "output_type": "stream",
     "text": [
      "writting pyjama file: ./_examples/example_breakpoint.pyjama\n"
     ]
    }
   ],
   "source": [
    "importlib.reload(pyjama) \n",
    "\n",
    "def F_example_breakpoint(pyjama_file):\n",
    "    \"\"\"\n",
    "    This is an example of code to store a 'breakpoint' function in pyjama\n",
    "    In a breakpoint\n",
    "        times must be represented as a numpy vector (not a matrix) with dimension (nbDim)\n",
    "        values must be represented as a numpy matrix with dimensions (nbDim, nbTime)\n",
    "    Pyjama store both as list or list of lists\n",
    "    \"\"\"\n",
    "\n",
    "\n",
    "    # --- 1) Create the pyjama file structure\n",
    "    my = pyjama.C_pyjama()\n",
    "\n",
    "    # --- 2) Create a first entry and update its value\n",
    "    my.M_add_definition(description_name='f0', type_extent='breakpoint', row_name=['f0'])\n",
    "    my.M_add_definition(description_name='mfcc', type_extent='breakpoint', row_name=['mfcc1', 'mfcc2', 'mfcc3', 'mfcc4', 'mfcc5', 'mfcc6', 'mfcc7', 'mfcc8', 'mfcc9', 'mfcc10', 'mfcc11', 'mfcc12', 'mfcc13'])\n",
    "    my.M_add_definition(description_name='meanMfcc', type_extent='global', type_content='numeric', row_name=['mfcc1', 'mfcc2', 'mfcc3', 'mfcc4', 'mfcc5', 'mfcc6', 'mfcc7', 'mfcc8', 'mfcc9', 'mfcc10', 'mfcc11', 'mfcc12', 'mfcc13'])\n",
    "\n",
    "    my.M_add_entry()\n",
    "\n",
    "    # --- Many Time, One dimension\n",
    "    if True:\n",
    "        f0_time_v = np.arange(0, 1, 0.01)\n",
    "        nb_time = f0_time_v.shape[0]\n",
    "        f0_value_m = np.random.randn(1, nb_time)\n",
    "        my.M_update_entry(description_name='f0', time_l=f0_time_v, value_l=f0_value_m)\n",
    "\n",
    "    # --- Many Time, Many dimension\n",
    "    if True:\n",
    "        mfcc_time_v = np.arange(0, 1, 0.01)\n",
    "        mfcc_value_m = np.random.randn(13, mfcc_time_v.shape[0])\n",
    "        my.M_update_entry(description_name='mfcc', time_l=mfcc_time_v, value_l=mfcc_value_m, )\n",
    "\n",
    "    if True:\n",
    "        mfcc_time_v = np.arange(0, 1, 0.01)\n",
    "        mfcc_value_m = np.random.randn(13, mfcc_time_v.shape[0])\n",
    "        my.M_update_entry(description_name='meanMfcc', value_l=np.mean(mfcc_value_m, axis=1, keepdims=True))\n",
    "\n",
    "    # --- 3) Save\n",
    "    my.M_save(pyjama_file)\n",
    "    return\n",
    "\n",
    "pyjama_file = './_examples/example_breakpoint.pyjama'\n",
    "F_example_breakpoint(pyjama_file)"
   ]
  },
  {
   "cell_type": "code",
   "execution_count": 16,
   "metadata": {},
   "outputs": [
    {
     "name": "stdout",
     "output_type": "stream",
     "text": [
      "(100,)\n",
      "(1, 100)\n",
      "(100,)\n",
      "(13, 100)\n"
     ]
    }
   ],
   "source": [
    "# --- Re-load to pyjama file and convert back the breakpoint to numpy format\n",
    "with open(pyjama_file) as f:\n",
    "    data_d = json.load(f)\n",
    "\n",
    "time_v = np.array(data_d['collection']['entry'][0]['f0'][0]['time'])\n",
    "value_m = np.array(data_d['collection']['entry'][0]['f0'][0]['value'])\n",
    "print(time_v.shape)\n",
    "print(value_m.shape)\n",
    "\n",
    "time_v = np.array(data_d['collection']['entry'][0]['mfcc'][0]['time'])\n",
    "value_m = np.array(data_d['collection']['entry'][0]['mfcc'][0]['value'])\n",
    "print(time_v.shape)\n",
    "print(value_m.shape)"
   ]
  },
  {
   "cell_type": "markdown",
   "metadata": {},
   "source": [
    "## Storing breakpoint time/value"
   ]
  },
  {
   "cell_type": "code",
   "execution_count": 17,
   "metadata": {},
   "outputs": [
    {
     "name": "stdout",
     "output_type": "stream",
     "text": [
      "writting pyjama file: ./_examples/example_breakpoint_time_value.pyjama\n"
     ]
    }
   ],
   "source": [
    "importlib.reload(pyjama) \n",
    "\n",
    "def F_example_breakPoint_time_value(pyjama_file):\n",
    "    \"\"\"\n",
    "    This an example to store several 'breakpoint' functions with a shared time\n",
    "    In this case the times are stored as a 'breakpointTime'\n",
    "    while the values of each breakpoint are stored as 'breakpointValue'?\n",
    "    in a 'breakpointTime'\n",
    "        times must be represented as a numpy vector (not a matrix) with dimension (nbDim)\n",
    "    in a 'breakpointValue'\n",
    "        values must be represented as a numpy matrix with dimensions (nbDim, nbTime)\n",
    "    \"\"\"\n",
    "\n",
    "    # --- 1) Create the pyjama file structure\n",
    "    my = pyjama.C_pyjama()\n",
    "    my.M_add_definition(description_name='shared-time', type_extent='breakpoint_time')\n",
    "    my.M_add_definition(description_name='alldescriptors', type_extent='breakpoint_value', row_name=['f0', 'harmonicity'])\n",
    "    my.M_add_definition(description_name='loudness', type_extent='breakpoint_value', row_name=['loudness'])\n",
    "\n",
    "    nb_time = 10\n",
    "    # --- 2) Create a new entry and update its value\n",
    "    my.M_add_entry()\n",
    "    time_v = np.arange(0,nb_time).reshape((1,nb_time)) # --- for breakpoint_time, the time is considered as a value it should therefore be a matrix (ndim=2)\n",
    "    my.M_update_entry(description_name='shared-time', value_l=time_v)\n",
    "    my.M_update_entry(description_name='alldescriptors', value_l=np.zeros((2, nb_time)))\n",
    "    my.M_update_entry(description_name='loudness', value_l=np.zeros((1, nb_time)))\n",
    "\n",
    "    # --- 3) Save\n",
    "    my.M_save(pyjama_file)\n",
    "\n",
    "    return\n",
    "\n",
    "pyjama_file = './_examples/example_breakpoint_time_value.pyjama'\n",
    "F_example_breakPoint_time_value(pyjama_file)"
   ]
  },
  {
   "cell_type": "code",
   "execution_count": 18,
   "metadata": {},
   "outputs": [
    {
     "name": "stdout",
     "output_type": "stream",
     "text": [
      "(1, 10)\n",
      "(2, 10)\n",
      "(1, 10)\n"
     ]
    }
   ],
   "source": [
    "# --- Re-load to pyjama file and convert back the breakpoint to numpy format\n",
    "with open(pyjama_file) as fid:\n",
    "    data_d = json.load(fid)\n",
    "\n",
    "time_v = np.array(data_d['collection']['entry'][0]['shared-time'][0]['value'])\n",
    "alldescriptor_m = np.array(data_d['collection']['entry'][0]['alldescriptors'][0]['value'])\n",
    "loudness_v = np.array(data_d['collection']['entry'][0]['loudness'][0]['value'])\n",
    "\n",
    "print(time_v.shape)\n",
    "print(alldescriptor_m.shape)\n",
    "print(loudness_v.shape)"
   ]
  },
  {
   "cell_type": "code",
   "execution_count": null,
   "metadata": {},
   "outputs": [],
   "source": []
  }
 ],
 "metadata": {
  "kernelspec": {
   "display_name": "conda_gpeeters_2024",
   "language": "python",
   "name": "python3"
  },
  "language_info": {
   "codemirror_mode": {
    "name": "ipython",
    "version": 3
   },
   "file_extension": ".py",
   "mimetype": "text/x-python",
   "name": "python",
   "nbconvert_exporter": "python",
   "pygments_lexer": "ipython3",
   "version": "3.8.18"
  }
 },
 "nbformat": 4,
 "nbformat_minor": 2
}
